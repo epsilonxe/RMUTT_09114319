{
 "cells": [
  {
   "cell_type": "code",
   "execution_count": 3,
   "id": "fef11d2e-8e21-4e5c-a0c3-2a60f7551bfd",
   "metadata": {},
   "outputs": [
    {
     "name": "stdout",
     "output_type": "stream",
     "text": [
      "Me\n",
      "Alice\n"
     ]
    }
   ],
   "source": [
    "from collections import deque\n",
    "\n",
    "queue = deque(['Me'])\n",
    "queue.append(\"Alice\")\n",
    "queue.append(\"Bob\")\n",
    "print(queue.popleft())  # Alice\n",
    "print(queue.popleft())  # Bob"
   ]
  },
  {
   "cell_type": "code",
   "execution_count": 4,
   "id": "ca68c5ef-1dd9-4318-94b4-9337b5fd068c",
   "metadata": {},
   "outputs": [
    {
     "data": {
      "text/plain": [
       "deque(['Bob'])"
      ]
     },
     "execution_count": 4,
     "metadata": {},
     "output_type": "execute_result"
    }
   ],
   "source": [
    "queue"
   ]
  },
  {
   "cell_type": "code",
   "execution_count": 7,
   "id": "4ef7f0fc-603d-4d66-a826-80540396977a",
   "metadata": {},
   "outputs": [],
   "source": [
    "graph = {\n",
    "    \"you\": [\"alice\", \"bob\", \"claire\"], \n",
    "    \"bob\": [\"anuj\", \"peggy\"], \n",
    "    \"alice\": [\"peggy\"], \n",
    "    \"claire\": [\"thom\", \"jonny\"], \n",
    "    \"anuj\": [], \n",
    "    \"peggy\": [], \n",
    "    \"thom\": [], \n",
    "    \"jonny\": []\n",
    "}"
   ]
  },
  {
   "cell_type": "code",
   "execution_count": 21,
   "id": "fdef25d4-2d26-4c8c-aa94-91bb2df7d041",
   "metadata": {},
   "outputs": [
    {
     "data": {
      "text/plain": [
       "False"
      ]
     },
     "execution_count": 21,
     "metadata": {},
     "output_type": "execute_result"
    }
   ],
   "source": [
    "def bfs(graph, start, goal):\n",
    "    queue = deque()\n",
    "    queue.append(start)\n",
    "    visited = [ ]\n",
    "    while queue:\n",
    "        node = queue.popleft()\n",
    "        if node == goal:\n",
    "            return True  # Goal found\n",
    "        if node not in visited:\n",
    "            visited.append(node)\n",
    "            neighbors = graph[node]\n",
    "            queue += neighbors\n",
    "    return False  # Goal not found\n",
    "\n",
    "bfs(graph, 'bob', 'alice')"
   ]
  },
  {
   "cell_type": "code",
   "execution_count": 19,
   "id": "984e2b02-28ee-4328-945f-adea152c2770",
   "metadata": {},
   "outputs": [
    {
     "data": {
      "text/plain": [
       "deque([1, 2, 3, 100, 200])"
      ]
     },
     "execution_count": 19,
     "metadata": {},
     "output_type": "execute_result"
    }
   ],
   "source": [
    "x = deque([1,2,3])\n",
    "x += [100,200]\n",
    "x"
   ]
  },
  {
   "cell_type": "code",
   "execution_count": 15,
   "id": "474ffcf9-b1be-464c-82d2-9155b54c9efb",
   "metadata": {},
   "outputs": [],
   "source": []
  },
  {
   "cell_type": "code",
   "execution_count": null,
   "id": "d72d4e1b-21aa-4747-b448-bfd8a8c58e62",
   "metadata": {},
   "outputs": [],
   "source": []
  }
 ],
 "metadata": {
  "kernelspec": {
   "display_name": "Python 3 (ipykernel)",
   "language": "python",
   "name": "python3"
  },
  "language_info": {
   "codemirror_mode": {
    "name": "ipython",
    "version": 3
   },
   "file_extension": ".py",
   "mimetype": "text/x-python",
   "name": "python",
   "nbconvert_exporter": "python",
   "pygments_lexer": "ipython3",
   "version": "3.11.5"
  }
 },
 "nbformat": 4,
 "nbformat_minor": 5
}
