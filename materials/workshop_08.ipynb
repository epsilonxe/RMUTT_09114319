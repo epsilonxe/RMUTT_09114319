{
 "cells": [
  {
   "cell_type": "markdown",
   "id": "d73fb68f-8b84-4bb5-9d47-5cb74dbbabf3",
   "metadata": {},
   "source": [
    "# Workshop: Dijkstra's Algorithm in Practice  \n",
    "### **Objective**\n",
    "- Understand **Dijkstra’s algorithm** for finding **shortest paths** in a **weighted graph**.\n",
    "- Implement **priority queue-based graph traversal**.\n",
    "- Solve **real-world problems** where shortest path computations are essential.\n",
    "- Work through **increasingly challenging problems** to reinforce concepts.\n",
    "\n",
    "---\n",
    "\n",
    "## **Problem 1: Understanding Graph Representation for Dijkstra's Algorithm (15 min)**  \n",
    "\n",
    "### **Problem Statement**  \n",
    "Graphs can be represented in multiple ways. To efficiently implement **Dijkstra's Algorithm**, we will represent a graph using an **adjacency list with weights**.\n",
    "\n",
    "\n",
    "\n",
    "### **Example Graph (Cities and Distances)**\n",
    "```\n",
    "      [A]\n",
    "     /   \\\n",
    "   4/     \\2\n",
    "   /       \\\n",
    " [B]------[C]\n",
    "   \\  10  /  \\3\n",
    "    \\    /    \\\n",
    "    [D]------[E]\n",
    "        8\n",
    "```\n",
    "- **Edges with weights:**  \n",
    "  `{A-B: 4, A-C: 2, B-C: 5, B-D: 10, C-D: 3, D-E: 8}`\n",
    "\n"
   ]
  },
  {
   "cell_type": "code",
   "execution_count": null,
   "id": "c83556fc-1029-487f-bb23-c4f0c07f3064",
   "metadata": {},
   "outputs": [],
   "source": [
    "\n",
    "\n",
    "\n"
   ]
  },
  {
   "cell_type": "markdown",
   "id": "7e2dd7f1-0904-4cee-8b51-9c480b24f6bf",
   "metadata": {},
   "source": [
    "---\n",
    "\n",
    "## **Problem 2: Implementing Dijkstra’s Algorithm (35 min)**  \n",
    "\n",
    "### **Problem Statement**  \n",
    "Implement **Dijkstra’s Algorithm** to find the **shortest path from a start node** to all other nodes in a weighted graph.\n",
    "\n",
    "\n",
    "### **Example Graph**\n",
    "```\n",
    "      [A]\n",
    "     /   \\\n",
    "   4/     \\2\n",
    "   /       \\\n",
    " [B]------[C]\n",
    "   \\  10  /  \\3\n",
    "    \\    /    \\\n",
    "    [D]------[E]\n",
    "        8\n",
    "```\n",
    "- **Start Node:** `A`\n",
    "- **Expected Output (Shortest Paths from A):**  \n",
    "  `{'A': 0, 'B': 4, 'C': 2, 'D': 5, 'E': 13}`"
   ]
  },
  {
   "cell_type": "code",
   "execution_count": null,
   "id": "32f766f2-e181-4aed-a31b-9f5663e62234",
   "metadata": {},
   "outputs": [],
   "source": [
    "\n",
    "\n",
    "\n",
    "\n"
   ]
  },
  {
   "cell_type": "markdown",
   "id": "539aa3bf-1079-4f91-bd9c-39ef829b983e",
   "metadata": {},
   "source": [
    "---\n",
    "\n",
    "## **Problem 3: Finding the Shortest Path Between Two Cities (30 min)**  \n",
    "\n",
    "### **Problem Statement**  \n",
    "Given a **road network** of cities, use **Dijkstra’s algorithm** to find the **shortest path** between two given cities.\n",
    "\n",
    "### **Example Graph (Cities and Distances)**\n",
    "```\n",
    "        New York\n",
    "         /   |  \n",
    "     790   230  \n",
    "       /     \\  \n",
    "   Chicago  Washington\n",
    "      |       |\n",
    "    1000     640\n",
    "      |       |\n",
    "    Denver  Atlanta\n",
    "      |       |\n",
    "     750     800\n",
    "      |       |\n",
    "   Las Vegas Houston\n",
    "      \\      /\n",
    "      1220\n",
    "```\n",
    "- **Find shortest path from:** `\"New York\"` to `\"Las Vegas\"`\n",
    "- **Expected Output:**  \n",
    "  `\"Shortest distance: 1920 miles\"`  \n",
    "  `\"Path: ['New York', 'Chicago', 'Denver', 'Las Vegas']\"`\n"
   ]
  },
  {
   "cell_type": "code",
   "execution_count": null,
   "id": "e143bcb2-8f1b-4968-b08f-f2e4a92489ae",
   "metadata": {},
   "outputs": [],
   "source": [
    "\n",
    "\n",
    "\n",
    "\n",
    "\n",
    "\n"
   ]
  },
  {
   "cell_type": "markdown",
   "id": "57077f34-8ee9-475c-970f-dce6cdf036f3",
   "metadata": {},
   "source": [
    "## **Problem 4: Detecting Negative Cycles (20 min)**  \n",
    "\n",
    "### **Problem Statement**  \n",
    "Dijkstra’s algorithm **does not work** with negative weights.  \n",
    "Your task is to **detect whether a graph contains negative weight edges** before running Dijkstra’s algorithm.\n",
    "\n",
    "---\n",
    "\n",
    "### **Example Graph with Negative Weight**\n",
    "```\n",
    "     [A] ---4---> [B]\n",
    "      ^           |\n",
    "      |          -5\n",
    "      |           v\n",
    "     [C] <---2--- [B]\n",
    "```\n",
    "- **Edges:** `{A-B: 4, B-C: -5, C-A: 2}`\n",
    "- **Expected Output:**  \n",
    "  `\"Graph contains negative weights. Dijkstra's Algorithm cannot be used.\"`"
   ]
  },
  {
   "cell_type": "code",
   "execution_count": null,
   "id": "9f59d9bb-3b5f-41bc-82c6-650b313dbd70",
   "metadata": {},
   "outputs": [],
   "source": [
    "\n",
    "\n",
    "\n",
    "\n"
   ]
  },
  {
   "cell_type": "markdown",
   "id": "a0d3b2f9-698e-4f34-a17d-30c00a3fb665",
   "metadata": {},
   "source": [
    "---"
   ]
  }
 ],
 "metadata": {
  "kernelspec": {
   "display_name": "Python 3 (ipykernel)",
   "language": "python",
   "name": "python3"
  },
  "language_info": {
   "codemirror_mode": {
    "name": "ipython",
    "version": 3
   },
   "file_extension": ".py",
   "mimetype": "text/x-python",
   "name": "python",
   "nbconvert_exporter": "python",
   "pygments_lexer": "ipython3",
   "version": "3.11.5"
  }
 },
 "nbformat": 4,
 "nbformat_minor": 5
}
