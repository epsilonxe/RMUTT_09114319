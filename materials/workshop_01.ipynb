{
 "cells": [
  {
   "cell_type": "markdown",
   "metadata": {},
   "source": [
    "# Introduction to Algorithms and Binary Search\n",
    "\n",
    "## Objective\n",
    "This lab workshop aims to give students hands-on experience in implementing basic search algorithms and understanding their performance. By the end of this session, students will be able to:\n",
    "- Implement linear and binary search algorithms in Python.\n",
    "- Analyze the performance of each algorithm using examples.\n",
    "\n",
    "**Duration:** 2 hours\n"
   ]
  },
  {
   "cell_type": "markdown",
   "metadata": {},
   "source": [
    "## Instructions\n",
    "- Complete the exercises below using Python. You are encouraged to work in pairs or small groups.\n",
    "- Make sure to write comments in your code to explain each step.\n",
    "- Submit your completed code at the end of the session for review.\n",
    "\n",
    "---"
   ]
  },
  {
   "cell_type": "markdown",
   "metadata": {},
   "source": [
    "## Lab Tasks\n"
   ]
  },
  {
   "cell_type": "markdown",
   "metadata": {},
   "source": [
    "### 1. Warm-Up Exercise (15 Minutes): Linear Search Implementation\n",
    "- **Task:** Implement a function called `linear_search` that takes a list and an element as input and returns the index of the element if found, or `None` if not found."
   ]
  },
  {
   "cell_type": "code",
   "execution_count": 1,
   "metadata": {},
   "outputs": [],
   "source": [
    "def linear_search(arr, target):\n",
    "    pass"
   ]
  },
  {
   "cell_type": "markdown",
   "metadata": {},
   "source": [
    "- **Test Your Code:** Use a sample list of integers to test your function. Try searching for an element that exists and one that does not."
   ]
  },
  {
   "cell_type": "code",
   "execution_count": null,
   "metadata": {},
   "outputs": [],
   "source": [
    "\n",
    "\n"
   ]
  },
  {
   "cell_type": "markdown",
   "metadata": {},
   "source": [
    "- **Discussion Point:** How many steps are required in the worst case to find an element?"
   ]
  },
  {
   "cell_type": "markdown",
   "metadata": {},
   "source": [
    "**Answer:**\n",
    "\n",
    "\n",
    "\n",
    "\n",
    ".\n",
    "\n",
    "---"
   ]
  },
  {
   "cell_type": "markdown",
   "metadata": {},
   "source": [
    "### 2. Main Exercise (30 Minutes): Implement Binary Search\n",
    "- **Task:** Implement a function called `binary_search` that takes a sorted list and an element as input and returns the index of the element if found, or `None` if not found."
   ]
  },
  {
   "cell_type": "code",
   "execution_count": null,
   "metadata": {},
   "outputs": [],
   "source": [
    "def binary_search(arr, target):\n",
    "    pass"
   ]
  },
  {
   "cell_type": "markdown",
   "metadata": {},
   "source": [
    "- **Test Your Code:** Use a sorted list of integers to test your function. Test cases should include elements present in the list as well as elements not in the list."
   ]
  },
  {
   "cell_type": "code",
   "execution_count": null,
   "metadata": {},
   "outputs": [],
   "source": [
    "\n",
    "\n",
    "\n"
   ]
  },
  {
   "cell_type": "markdown",
   "metadata": {},
   "source": [
    "- **Question:** How many steps are required in the worst case if the list contains 100 elements?"
   ]
  },
  {
   "cell_type": "markdown",
   "metadata": {},
   "source": [
    "**Answer:**\n",
    "\n",
    "\n",
    "\n",
    "\n",
    ".\n",
    "\n",
    "---"
   ]
  },
  {
   "cell_type": "markdown",
   "metadata": {},
   "source": [
    "### 3. Compare Linear and Binary Search (30 Minutes)\n",
    "- **Task:** Compare the performance of `linear_search` and `binary_search`.\n",
    "  - Create a sorted list of 10,000 integers.\n",
    "  - Measure the time taken by both `linear_search` and `binary_search` to find an element in the list.\n",
    "  - Use Python’s `time` module to record the time taken for each search."
   ]
  },
  {
   "cell_type": "code",
   "execution_count": null,
   "metadata": {},
   "outputs": [],
   "source": [
    "import time\n",
    "\n",
    "arr = list(range(10000))\n",
    "target = 9999\n",
    "\n",
    "start = time.time()\n",
    "linear_search(arr, target)\n",
    "end = time.time()\n",
    "print(f\"Linear Search took: {end - start} seconds\")\n",
    "\n",
    "start = time.time()\n",
    "binary_search(arr, target)\n",
    "end = time.time()\n",
    "print(f\"Binary Search took: {end - start} seconds\")"
   ]
  },
  {
   "cell_type": "markdown",
   "metadata": {},
   "source": [
    "- **Discussion Points:**\n",
    "  - How does the time taken by each search algorithm change as the list size increases?\n",
    "  - Why is binary search more efficient than linear search for large datasets?"
   ]
  },
  {
   "cell_type": "markdown",
   "metadata": {},
   "source": [
    "**Answer:**\n",
    "\n",
    "\n",
    "\n",
    "\n",
    ".\n",
    "\n",
    "---"
   ]
  },
  {
   "cell_type": "markdown",
   "metadata": {},
   "source": [
    "### 4. Challenge Exercise (30 Minutes): Recursive Binary Search\n",
    "- **Task:** Implement a recursive version of the `binary_search` function."
   ]
  },
  {
   "cell_type": "code",
   "execution_count": 1,
   "metadata": {},
   "outputs": [],
   "source": [
    "def binary_search_recursive(arr, target, low, high):\n",
    "    pass"
   ]
  },
  {
   "cell_type": "markdown",
   "metadata": {},
   "source": [
    "- **Test Your Code:** Test the recursive function with various input sizes and targets."
   ]
  },
  {
   "cell_type": "code",
   "execution_count": null,
   "metadata": {},
   "outputs": [],
   "source": [
    "\n",
    "\n"
   ]
  },
  {
   "cell_type": "markdown",
   "metadata": {},
   "source": [
    "- **Discussion Point:** What are the advantages and disadvantages of using a recursive approach compared to an iterative approach? "
   ]
  },
  {
   "cell_type": "markdown",
   "metadata": {},
   "source": [
    "**Answer:**\n",
    "\n",
    "\n",
    "\n",
    "\n",
    ".\n",
    "\n",
    "---"
   ]
  },
  {
   "cell_type": "markdown",
   "metadata": {
    "jp-MarkdownHeadingCollapsed": true
   },
   "source": [
    "### 5. Wrap-Up and Submission (15 Minutes)\n",
    "- Ensure all code is properly commented.\n",
    "- Reflect on the different search algorithms and their efficiencies.\n",
    "- Submit your completed Python files.\n",
    "\n",
    "**Submission Instructions:**\n",
    "- Save your code files with your group members' names.\n",
    "- Submit your files through the course management system or via email to the instructor.\n",
    "\n",
    "**Note:** Don’t hesitate to ask for help if you get stuck at any point. Collaboration is encouraged!"
   ]
  }
 ],
 "metadata": {
  "kernelspec": {
   "display_name": "Python 3 (ipykernel)",
   "language": "python",
   "name": "python3"
  },
  "language_info": {
   "codemirror_mode": {
    "name": "ipython",
    "version": 3
   },
   "file_extension": ".py",
   "mimetype": "text/x-python",
   "name": "python",
   "nbconvert_exporter": "python",
   "pygments_lexer": "ipython3",
   "version": "3.13.0"
  }
 },
 "nbformat": 4,
 "nbformat_minor": 4
}
