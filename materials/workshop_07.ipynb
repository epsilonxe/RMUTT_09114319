{
 "cells": [
  {
   "cell_type": "markdown",
   "id": "a8d84b04-07d1-4e77-8758-5d170bae2f32",
   "metadata": {},
   "source": [
    "# Workshop: Breadth-First Search (BFS) in Practice \n",
    "\n",
    "### Objective\n",
    "- Understand **how BFS explores graphs level by level**.\n",
    "- Implement BFS to solve **real-world problems**.\n",
    "- Reinforce **queue-based traversal and shortest-path applications**.\n",
    "- Solve **increasingly challenging problems**, ensuring deep comprehension.\n",
    "\n",
    "---"
   ]
  },
  {
   "cell_type": "markdown",
   "id": "6bc7e0ae-a361-458d-ab74-08a6ec433974",
   "metadata": {},
   "source": [
    "## Problem 1: Exploring Connected Countries Using BFS  \n",
    "\n",
    "### **Problem Statement**  \n",
    "A **graph** consists of **nodes (vertices)** representing entities and **edges** representing connections between them.  \n",
    "In this problem, each **node represents a country**, and an edge between two nodes means they share a **direct land border**.  \n",
    "\n",
    "**Your Task:**  \n",
    "- Implement **BFS** to explore a country’s neighboring countries level by level.\n",
    "- Given a starting country, return the **order in which countries are visited**.\n",
    "- Assume the graph is **undirected** (borders are bidirectional).\n",
    "\n",
    "---\n",
    "\n",
    "### **Example Graph (Countries and Borders)**\n",
    "Consider the following **graph** representing neighboring countries:\n",
    "\n",
    "```\n",
    "        Canada\n",
    "       /     \\\n",
    "      USA --- Mexico\n",
    "       |       |\n",
    "     Brazil -- Argentina\n",
    "```\n",
    "\n",
    "- **Edges:** `{Canada-USA, USA-Mexico, USA-Brazil, Mexico-Argentina, Brazil-Argentina}`\n",
    "- **BFS from 'Canada' should visit nodes in level order**:  \n",
    "  **`Canada → USA → Mexico → Brazil → Argentina`**\n",
    "\n",
    "---\n",
    "\n",
    "### **Example Input (Graph as an Adjacency List)**\n",
    "```python\n",
    "borders = {\n",
    "    'Canada': ['USA'],\n",
    "    'USA': ['Canada', 'Mexico', 'Brazil'],\n",
    "    'Mexico': ['USA', 'Argentina'],\n",
    "    'Brazil': ['USA', 'Argentina'],\n",
    "    'Argentina': ['Mexico', 'Brazil']\n",
    "}\n",
    "```\n",
    "\n",
    "### **Example Output**\n",
    "```python\n",
    "bfs_explore(borders, 'Canada')\n",
    "## output: ['Canada', 'USA', 'Mexico', 'Brazil', 'Argentina']\n",
    "\n",
    "bfs_explore(borders, 'Argentina')\n",
    "## output: ['Argentina', 'Mexico', 'Brazil', 'USA', 'Canada']\n",
    "```\n",
    "\n",
    "---\n",
    "\n",
    "### **Hint**\n",
    "- Use a **queue (FIFO: First-In, First-Out)** to explore countries **level by level**.\n",
    "- Maintain a **visited set** to track explored countries.\n",
    "- Visit **all directly connected countries before exploring further neighbors**."
   ]
  },
  {
   "cell_type": "code",
   "execution_count": 1,
   "id": "088abd76-dc28-4671-8e0c-7577549fa324",
   "metadata": {},
   "outputs": [
    {
     "name": "stdout",
     "output_type": "stream",
     "text": [
      "None\n"
     ]
    }
   ],
   "source": [
    "def bfs_explore_countries(graph, start):\n",
    "    pass\n",
    "\n",
    "# Testing\n",
    "borders = {\n",
    "    'Canada': ['USA'],\n",
    "    'USA': ['Canada', 'Mexico', 'Brazil'],\n",
    "    'Mexico': ['USA', 'Argentina'],\n",
    "    'Brazil': ['USA', 'Argentina'],\n",
    "    'Argentina': ['Mexico', 'Brazil']\n",
    "}\n",
    "\n",
    "print(bfs_explore_countries(borders, 'Argentina'))  \n",
    "# Output: ['Canada', 'USA', 'Mexico', 'Brazil', 'Argentina']"
   ]
  },
  {
   "cell_type": "markdown",
   "id": "542ec196-657d-403f-91d7-db493c8aefe5",
   "metadata": {},
   "source": [
    "\n",
    "---\n",
    "\n",
    "## Problem 2: Finding the Shortest Path Between Countries Using BFS  \n",
    "\n",
    "### **Problem Statement**  \n",
    "In this problem, you are given a **map of countries**, where each country is connected to its **neighboring countries by land**.  \n",
    "Your task is to **find the shortest route from one country to another** using **BFS**.  \n",
    "\n",
    "**Rules:**  \n",
    "- You can only **travel between directly connected countries** (i.e., neighbors).  \n",
    "- Your goal is to **return the shortest path** (sequence of countries) from the **start country to the target country**.  \n",
    "- If no path exists, return `None`.\n",
    "\n",
    "---\n",
    "\n",
    "### **Example Graph (Countries and Borders)**\n",
    "Consider the following **map** of connected countries:\n",
    "\n",
    "```\n",
    "        Canada\n",
    "       /     \\\n",
    "      USA --- Mexico\n",
    "       |       |\n",
    "     Brazil -- Argentina\n",
    "```\n",
    "\n",
    "- **Edges:** `{Canada-USA, USA-Mexico, USA-Brazil, Mexico-Argentina, Brazil-Argentina}`\n",
    "- **Finding the shortest path from 'Canada' to 'Argentina' should return**:  \n",
    "  **`Canada → USA → Mexico → Argentina`**  \n",
    "  (instead of exploring unnecessary paths).\n",
    "\n",
    "---\n",
    "\n",
    "### **Example Input**\n",
    "```python\n",
    "borders = {\n",
    "    'Canada': ['USA'],\n",
    "    'USA': ['Canada', 'Mexico', 'Brazil'],\n",
    "    'Mexico': ['USA', 'Argentina'],\n",
    "    'Brazil': ['USA', 'Argentina'],\n",
    "    'Argentina': ['Mexico', 'Brazil']\n",
    "}\n",
    "\n",
    "start_country = 'Canada'\n",
    "destination_country = 'Argentina'\n",
    "```\n",
    "\n",
    "### **Example Output**\n",
    "```python\n",
    "['Canada', 'USA', 'Mexico', 'Argentina']\n",
    "```\n",
    "\n",
    "---\n",
    "\n",
    "### **Hint**\n",
    "- Modify BFS to **track paths**, not just visited countries.\n",
    "- Instead of just **storing countries in a queue**, **store the path taken**.\n",
    "- When the **destination is reached**, return the path.\n"
   ]
  },
  {
   "cell_type": "code",
   "execution_count": 2,
   "id": "53138b2c-0361-45ba-9be7-82472da51dde",
   "metadata": {},
   "outputs": [
    {
     "name": "stdout",
     "output_type": "stream",
     "text": [
      "None\n"
     ]
    }
   ],
   "source": [
    "def bfs_shortest_path(graph, start, goal):\n",
    "    pass\n",
    "\n",
    "# Testing\n",
    "borders = {\n",
    "    'Canada': ['USA'],\n",
    "    'USA': ['Canada', 'Mexico', 'Brazil'],\n",
    "    'Mexico': ['USA', 'Argentina'],\n",
    "    'Brazil': ['USA', 'Argentina'],\n",
    "    'Argentina': ['Mexico', 'Brazil']\n",
    "}\n",
    "\n",
    "print(bfs_shortest_path(borders, 'Canada', 'Argentina'))  \n",
    "# Output: ['Canada', 'USA', 'Mexico', 'Argentina']"
   ]
  },
  {
   "cell_type": "markdown",
   "id": "f6876d24-e369-48b8-a01c-698293ef81d6",
   "metadata": {},
   "source": [
    "---\n",
    "\n",
    "## Problem 3: BFS for Solving a Maze (30 min)\n",
    "\n",
    "### **Problem Statement**  \n",
    "You are given a **2D grid representing a maze**, where:\n",
    "- `0` represents an **open path**.\n",
    "- `1` represents a **wall**.\n",
    "- The **goal** is to find the shortest path from the **start position to the end position** using **BFS**.\n",
    "\n",
    "### **Example Input:**\n",
    "```python\n",
    "maze = [\n",
    "    [0, 1, 0, 0, 0],\n",
    "    [0, 1, 0, 1, 0],\n",
    "    [0, 0, 0, 1, 0],\n",
    "    [1, 1, 0, 1, 0],\n",
    "    [0, 0, 0, 0, 0]\n",
    "]\n",
    "start = (0, 0)\n",
    "end = (4, 4)\n",
    "```\n",
    "### **Example Output:**\n",
    "```python\n",
    "Shortest path: [(0, 0), (1, 0), (2, 0), (2, 1), (2, 2), (3, 2), (4, 2), (4, 3), (4, 4)]\n",
    "```\n",
    "\n",
    "### **Hint**\n",
    "- Represent the maze as a **graph** where each cell is a **node**.\n",
    "- Use **BFS** to find the shortest path.\n",
    "- Only move **up, down, left, right** if within bounds.\n"
   ]
  },
  {
   "cell_type": "code",
   "execution_count": 3,
   "id": "ef2ef73e-d32b-485e-9e62-79b104a2e289",
   "metadata": {},
   "outputs": [
    {
     "name": "stdout",
     "output_type": "stream",
     "text": [
      "None\n"
     ]
    }
   ],
   "source": [
    "def bfs_maze(maze, start, end):\n",
    "    pass\n",
    "\n",
    "# Testing\n",
    "maze = [\n",
    "    [0, 1, 0, 0, 0],\n",
    "    [0, 1, 0, 1, 0],\n",
    "    [0, 0, 0, 1, 0],\n",
    "    [1, 1, 0, 1, 0],\n",
    "    [0, 0, 0, 0, 0]\n",
    "]\n",
    "\n",
    "start = (0, 0)\n",
    "end = (4, 4)\n",
    "\n",
    "print(bfs_maze(maze, start, end))\n",
    "# Output: [(0, 0), (1, 0), (2, 0), (2, 1), (2, 2), (3, 2), (4, 2), (4, 3), (4, 4)]\n"
   ]
  },
  {
   "cell_type": "markdown",
   "id": "8f9cbfa2-209e-4e4b-aa91-eb73bd84756e",
   "metadata": {},
   "source": [
    "---\n",
    "\n",
    "## Problem 4: Social Network Friend Suggestion (25 min)\n",
    "\n",
    "### **Problem Statement**  \n",
    "Given a **social network graph**, implement **BFS-based friend suggestion**.  \n",
    "- **Input**: A graph where each node represents a person.\n",
    "- **Output**: Suggest **friends of friends** who are **not already friends**.\n",
    "\n",
    "### **Example Input:**\n",
    "```python\n",
    "social_graph = {\n",
    "    'Alice': ['Bob', 'Claire'],\n",
    "    'Bob': ['Alice', 'Anuj'],\n",
    "    'Claire': ['Alice', 'Jonny'],\n",
    "    'Anuj': ['Bob'],\n",
    "    'Jonny': ['Claire'],\n",
    "    'Peggy': []\n",
    "}\n",
    "```\n",
    "### **Example Output:**\n",
    "```python\n",
    "Suggested friends for Alice: {'Jonny', 'Anuj'}\n",
    "```\n",
    "\n",
    "### **Hint**\n",
    "- Use **BFS** to find **nodes exactly 2 levels away**.\n",
    "- Exclude **direct friends**.\n"
   ]
  },
  {
   "cell_type": "code",
   "execution_count": 4,
   "id": "93c0b6bd-9e0e-44a9-8314-a7ecb135c312",
   "metadata": {},
   "outputs": [
    {
     "name": "stdout",
     "output_type": "stream",
     "text": [
      "None\n"
     ]
    }
   ],
   "source": [
    "def suggest_friends(graph, person):\n",
    "    pass\n",
    "\n",
    "# Testing\n",
    "social_graph = {\n",
    "    'Alice': ['Bob', 'Claire'],\n",
    "    'Bob': ['Alice', 'Anuj', 'Peggy'],\n",
    "    'Claire': ['Alice', 'Jonny'],\n",
    "    'Anuj': ['Bob'],\n",
    "    'Peggy': ['Bob'],\n",
    "    'Jonny': ['Claire']\n",
    "}\n",
    "\n",
    "print(suggest_friends(social_graph, 'Alice'))  \n",
    "# Output: {'Anuj', 'Peggy', 'Jonny'}\n"
   ]
  },
  {
   "cell_type": "markdown",
   "id": "c194c6fc-cfe7-4e49-b2bb-1bf77037b41b",
   "metadata": {},
   "source": [
    "---"
   ]
  }
 ],
 "metadata": {
  "kernelspec": {
   "display_name": "Python 3 (ipykernel)",
   "language": "python",
   "name": "python3"
  },
  "language_info": {
   "codemirror_mode": {
    "name": "ipython",
    "version": 3
   },
   "file_extension": ".py",
   "mimetype": "text/x-python",
   "name": "python",
   "nbconvert_exporter": "python",
   "pygments_lexer": "ipython3",
   "version": "3.11.5"
  }
 },
 "nbformat": 4,
 "nbformat_minor": 5
}
