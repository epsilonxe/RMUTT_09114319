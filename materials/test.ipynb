{
 "cells": [
  {
   "cell_type": "code",
   "execution_count": 3,
   "id": "ff71eec6-eb50-44bf-ac68-a84a0a086647",
   "metadata": {},
   "outputs": [],
   "source": [
    "def quicksort(array):\n",
    "    if len(array) < 2:  # Base case\n",
    "        return array\n",
    "    else:\n",
    "        pivot = array[0]  # Choose the pivot\n",
    "        less = less_elements(array[1:], pivot)\n",
    "        greater = greater_elements(array[1:], pivot)\n",
    "        return quicksort(less) + [pivot] + quicksort(greater)\n",
    "\n",
    "def less_elements(array, x):\n",
    "    return [k for k in array if k <= x]\n",
    "\n",
    "def greater_elements(array, x):\n",
    "    return [k for k in array if k > x]"
   ]
  },
  {
   "cell_type": "code",
   "execution_count": 4,
   "id": "a50beb8e-45c6-4568-b8ce-2f0d658b9095",
   "metadata": {},
   "outputs": [
    {
     "data": {
      "text/plain": [
       "[0, 1, 2, 3, 3, 5]"
      ]
     },
     "execution_count": 4,
     "metadata": {},
     "output_type": "execute_result"
    }
   ],
   "source": [
    "quicksort([2,3,1,0,5,3])"
   ]
  },
  {
   "cell_type": "code",
   "execution_count": 10,
   "id": "a1ea39fc-26d7-4058-9ef3-30de18d6ed5e",
   "metadata": {},
   "outputs": [
    {
     "data": {
      "text/plain": [
       "[3, 5, 5]"
      ]
     },
     "execution_count": 10,
     "metadata": {},
     "output_type": "execute_result"
    }
   ],
   "source": [
    "[1, 2, 5, 6] and [3, 5, 5]"
   ]
  },
  {
   "cell_type": "code",
   "execution_count": 11,
   "id": "859997c4-df69-4d38-a9c7-cb89a819d990",
   "metadata": {},
   "outputs": [
    {
     "data": {
      "text/plain": [
       "[]"
      ]
     },
     "execution_count": 11,
     "metadata": {},
     "output_type": "execute_result"
    }
   ],
   "source": [
    "[3, 5] and []"
   ]
  },
  {
   "cell_type": "code",
   "execution_count": 8,
   "id": "36b2bd1f-e1c5-4de4-a867-e6ae6eb37875",
   "metadata": {},
   "outputs": [
    {
     "data": {
      "text/plain": [
       "False"
      ]
     },
     "execution_count": 8,
     "metadata": {},
     "output_type": "execute_result"
    }
   ],
   "source": [
    "bool([])"
   ]
  },
  {
   "cell_type": "code",
   "execution_count": 16,
   "id": "91d8b7f6-de1b-4ff1-a531-b83ae0e6edd8",
   "metadata": {},
   "outputs": [],
   "source": [
    "with open('untitled.txt', 'r') as file:\n",
    "    text = file.readlines()\n",
    "summation = 0\n",
    "for x in text:\n",
    "    summation += float(x)\n",
    "with open('untitled_sales.txt', 'w') as file:\n",
    "    file.write(f'{summation}')"
   ]
  },
  {
   "cell_type": "code",
   "execution_count": 35,
   "id": "d5715fe0-0294-4f23-b2cf-88ea633ed5b8",
   "metadata": {},
   "outputs": [
    {
     "name": "stdin",
     "output_type": "stream",
     "text": [
      "Enter mass:  x\n",
      "Enter vol:  x\n"
     ]
    },
    {
     "name": "stdout",
     "output_type": "stream",
     "text": [
      "Error, data inputs must be numbers\n"
     ]
    }
   ],
   "source": [
    "mass = input('Enter mass: ')\n",
    "vol = input('Enter vol: ')\n",
    "try:\n",
    "    mass = float(mass)\n",
    "    vol = float(vol)\n",
    "    assert mass >= 0\n",
    "    assert vol >= 0\n",
    "    density = mass/vol\n",
    "    print(density)\n",
    "except ValueError:\n",
    "    print('Error, data inputs must be numbers')\n",
    "except ZeroDivisionError:\n",
    "    print('Error, volume must be not zeros')\n",
    "except AssertionError:\n",
    "    print('Error, data must be positive')"
   ]
  },
  {
   "cell_type": "code",
   "execution_count": null,
   "id": "61ec0b9f-acd5-4b92-b635-a8adf6af0227",
   "metadata": {},
   "outputs": [],
   "source": []
  }
 ],
 "metadata": {
  "kernelspec": {
   "display_name": "Python 3 (ipykernel)",
   "language": "python",
   "name": "python3"
  },
  "language_info": {
   "codemirror_mode": {
    "name": "ipython",
    "version": 3
   },
   "file_extension": ".py",
   "mimetype": "text/x-python",
   "name": "python",
   "nbconvert_exporter": "python",
   "pygments_lexer": "ipython3",
   "version": "3.11.5"
  }
 },
 "nbformat": 4,
 "nbformat_minor": 5
}
