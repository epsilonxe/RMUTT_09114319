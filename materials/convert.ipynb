{
 "cells": [
  {
   "cell_type": "code",
   "execution_count": 4,
   "id": "d72d4e1b-21aa-4747-b448-bfd8a8c58e62",
   "metadata": {},
   "outputs": [],
   "source": [
    "import os\n",
    "import subprocess"
   ]
  },
  {
   "cell_type": "code",
   "execution_count": 14,
   "id": "612f0af8-7ccd-424f-ac17-fb115b722801",
   "metadata": {},
   "outputs": [
    {
     "name": "stdout",
     "output_type": "stream",
     "text": [
      "Convert solution_02.ipynb to html ... "
     ]
    },
    {
     "name": "stderr",
     "output_type": "stream",
     "text": [
      "[NbConvertApp] Converting notebook solution_02.ipynb to html\n",
      "[NbConvertApp] Writing 296361 bytes to solution_02.html\n"
     ]
    },
    {
     "name": "stdout",
     "output_type": "stream",
     "text": [
      "[Done]\n",
      "Convert solution_02.html to pdf ... "
     ]
    },
    {
     "name": "stderr",
     "output_type": "stream",
     "text": [
      "354689 bytes written to file solution_02.pdf\n"
     ]
    },
    {
     "name": "stdout",
     "output_type": "stream",
     "text": [
      "[Done]\n",
      "Convert solution_06.ipynb to html ... "
     ]
    },
    {
     "name": "stderr",
     "output_type": "stream",
     "text": [
      "[NbConvertApp] Converting notebook solution_06.ipynb to html\n",
      "[NbConvertApp] Writing 299826 bytes to solution_06.html\n"
     ]
    },
    {
     "name": "stdout",
     "output_type": "stream",
     "text": [
      "[Done]\n",
      "Convert solution_06.html to pdf ... "
     ]
    },
    {
     "name": "stderr",
     "output_type": "stream",
     "text": [
      "454099 bytes written to file solution_06.pdf\n"
     ]
    },
    {
     "name": "stdout",
     "output_type": "stream",
     "text": [
      "[Done]\n",
      "Convert solution_04.ipynb to html ... "
     ]
    },
    {
     "name": "stderr",
     "output_type": "stream",
     "text": [
      "[NbConvertApp] Converting notebook solution_04.ipynb to html\n",
      "[NbConvertApp] WARNING | Alternative text is missing on 1 image(s).\n",
      "[NbConvertApp] Writing 293139 bytes to solution_04.html\n"
     ]
    },
    {
     "name": "stdout",
     "output_type": "stream",
     "text": [
      "[Done]\n",
      "Convert solution_04.html to pdf ... "
     ]
    },
    {
     "name": "stderr",
     "output_type": "stream",
     "text": [
      "374735 bytes written to file solution_04.pdf\n"
     ]
    },
    {
     "name": "stdout",
     "output_type": "stream",
     "text": [
      "[Done]\n",
      "Convert solution_03.ipynb to html ... "
     ]
    },
    {
     "name": "stderr",
     "output_type": "stream",
     "text": [
      "[NbConvertApp] Converting notebook solution_03.ipynb to html\n",
      "[NbConvertApp] Writing 297817 bytes to solution_03.html\n"
     ]
    },
    {
     "name": "stdout",
     "output_type": "stream",
     "text": [
      "[Done]\n",
      "Convert solution_03.html to pdf ... "
     ]
    },
    {
     "name": "stderr",
     "output_type": "stream",
     "text": [
      "381935 bytes written to file solution_03.pdf\n"
     ]
    },
    {
     "name": "stdout",
     "output_type": "stream",
     "text": [
      "[Done]\n",
      "Convert solution_01.ipynb to html ... "
     ]
    },
    {
     "name": "stderr",
     "output_type": "stream",
     "text": [
      "[NbConvertApp] Converting notebook solution_01.ipynb to html\n",
      "[NbConvertApp] WARNING | Alternative text is missing on 1 image(s).\n",
      "[NbConvertApp] Writing 344095 bytes to solution_01.html\n"
     ]
    },
    {
     "name": "stdout",
     "output_type": "stream",
     "text": [
      "[Done]\n",
      "Convert solution_01.html to pdf ... "
     ]
    },
    {
     "name": "stderr",
     "output_type": "stream",
     "text": [
      "391876 bytes written to file solution_01.pdf\n"
     ]
    },
    {
     "name": "stdout",
     "output_type": "stream",
     "text": [
      "[Done]\n",
      "Convert solution_05.ipynb to html ... "
     ]
    },
    {
     "name": "stderr",
     "output_type": "stream",
     "text": [
      "[NbConvertApp] Converting notebook solution_05.ipynb to html\n",
      "[NbConvertApp] Writing 311225 bytes to solution_05.html\n"
     ]
    },
    {
     "name": "stdout",
     "output_type": "stream",
     "text": [
      "[Done]\n",
      "Convert solution_05.html to pdf ... "
     ]
    },
    {
     "name": "stderr",
     "output_type": "stream",
     "text": [
      "476002 bytes written to file solution_05.pdf\n"
     ]
    },
    {
     "name": "stdout",
     "output_type": "stream",
     "text": [
      "[Done]\n",
      "Convert solution_07.ipynb to html ... "
     ]
    },
    {
     "name": "stderr",
     "output_type": "stream",
     "text": [
      "[NbConvertApp] Converting notebook solution_07.ipynb to html\n",
      "[NbConvertApp] Writing 310662 bytes to solution_07.html\n"
     ]
    },
    {
     "name": "stdout",
     "output_type": "stream",
     "text": [
      "[Done]\n",
      "[Done]t solution_07.html to pdf ... \n"
     ]
    },
    {
     "name": "stderr",
     "output_type": "stream",
     "text": [
      "545585 bytes written to file solution_07.pdf\n"
     ]
    }
   ],
   "source": [
    "dirname = '.'\n",
    "for _, _, files in os.walk(dirname):\n",
    "    for f in files:\n",
    "        if f.endswith('.ipynb') and 'solution' in f and 'checkpoint' not in f:\n",
    "            name = f[:-6]\n",
    "            print(f'Convert {f} to html ...', end=' ')\n",
    "            subprocess.run(['jupyter', \n",
    "                            'nbconvert', \n",
    "                            '--to', \n",
    "                            'html', \n",
    "                            f])\n",
    "            print(f'Wrote {name}.html successfully')\n",
    "            \n",
    "            print(f'Convert {name}.html to pdf ...', end=' ')\n",
    "            chrome = r'/Applications/Google Chrome.app/Contents/MacOS/Google Chrome'\n",
    "            subprocess.run([chrome, \n",
    "                            '--headless', \n",
    "                            f'--print-to-pdf={name}.pdf', \n",
    "                            f'{name}.html'])\n",
    "            print(f'Wrote {name}.pdf successfully') \n",
    "\n",
    "            "
   ]
  },
  {
   "cell_type": "code",
   "execution_count": null,
   "id": "a408f804-36fb-43da-a94e-a69b6915fe7c",
   "metadata": {},
   "outputs": [],
   "source": []
  }
 ],
 "metadata": {
  "kernelspec": {
   "display_name": "Python 3 (ipykernel)",
   "language": "python",
   "name": "python3"
  },
  "language_info": {
   "codemirror_mode": {
    "name": "ipython",
    "version": 3
   },
   "file_extension": ".py",
   "mimetype": "text/x-python",
   "name": "python",
   "nbconvert_exporter": "python",
   "pygments_lexer": "ipython3",
   "version": "3.11.5"
  }
 },
 "nbformat": 4,
 "nbformat_minor": 5
}
