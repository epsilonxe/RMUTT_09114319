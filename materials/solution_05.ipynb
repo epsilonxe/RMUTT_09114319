{
 "cells": [
  {
   "cell_type": "markdown",
   "id": "a30ff3b2-bbad-4acb-a1c5-2ad6ab9254c5",
   "metadata": {},
   "source": [
    "# Workshop: Quicksort\n",
    "## Objective\n",
    "- Reinforce understanding of Divide and Conquer techniques.\n",
    "- Solve challenging problems to deepen knowledge of recursion and Quicksort.\n",
    "- Apply concepts creatively to real-world scenarios.\n",
    "\n",
    "---\n",
    "\n",
    "## Problem 1: Find the Kth Smallest Element\n",
    "### Problem:\n",
    "Write a recursive function to find the **Kth smallest element** in an unsorted array using the Quicksort partitioning logic. Your function should not fully sort the array.\n",
    "\n",
    "### Example Input and Output:\n",
    "```python\n",
    "arr = [7, 10, 4, 3, 20, 15]\n",
    "k = 3\n",
    "# Output: 7 (the 3rd smallest element)\n",
    "```\n",
    "\n",
    "### Hint:\n",
    "- **Base case**: The array has only one element, and \\( k = 1 \\).\n",
    "- **Recursive steps**: Partition the array into `left` and `right` subarrays based on a pivot. Recursively determine if \\( k \\) lies in the left subarray, the pivot itself, or the right subarray.\n"
   ]
  },
  {
   "cell_type": "code",
   "execution_count": 1,
   "id": "8d8f066d-2c63-484e-aa72-7662908fca7e",
   "metadata": {},
   "outputs": [
    {
     "name": "stdout",
     "output_type": "stream",
     "text": [
      "None\n",
      "None\n"
     ]
    }
   ],
   "source": [
    "def kth_smallest(array, k):\n",
    "    if len(array) == 0:\n",
    "        return None\n",
    "    elif len(array) == 1:\n",
    "        if k == 1:\n",
    "            return array[0]\n",
    "        else:\n",
    "            return None\n",
    "    else:\n",
    "        pivot = array[0]\n",
    "        left = [x for x in array[1:] if x <= pivot]\n",
    "        right = [x for x in array[1:] if x > pivot]\n",
    "        if k <= len(left):\n",
    "            return kth_smallest(left, k)\n",
    "        elif k == len(left) + 1:\n",
    "            return pivot\n",
    "        else:\n",
    "            return kth_smallest(right, k-len(left)-1)\n",
    "        \n",
    "\n",
    "# Testing\n",
    "print(kth_smallest([7], 2))  \n",
    "print(kth_smallest([7, 10, 4, 3, 20, 15], 7))  # Output: 7"
   ]
  },
  {
   "cell_type": "markdown",
   "id": "ad07c29a-f2e3-4f0d-be3b-bab38c11a32e",
   "metadata": {},
   "source": [
    "---\n",
    "\n",
    "## Problem 2: Largest Square Plots\n",
    "### Problem:\n",
    "A farmer has a rectangular field with dimensions \\( l \\) and \\( w \\). They want to divide the field into the largest possible square plots. Use recursion to calculate the size of the largest square plot.\n",
    "\n",
    "### Example Input and Output:\n",
    "```python\n",
    "length = 1680\n",
    "width = 640\n",
    "# Output: 80 (largest square plot size)\n",
    "```\n",
    "\n",
    "### Hint:\n",
    "- **Base case**: If one dimension is 0, return the other dimension.\n",
    "- **Recursive step**: Use the Euclidean algorithm: Reduce the problem to finding the largest square plot for $ \\text{width} $ and $ \\text{length} \\% \\text{width} $."
   ]
  },
  {
   "cell_type": "code",
   "execution_count": 4,
   "id": "8a51d3af-c63d-4ba1-934f-7c7a6e3a474e",
   "metadata": {},
   "outputs": [
    {
     "name": "stdout",
     "output_type": "stream",
     "text": [
      "80\n"
     ]
    }
   ],
   "source": [
    "def largest_square_plot(length, width):\n",
    "    if length == 0:\n",
    "        return width\n",
    "    elif width == 0:\n",
    "        return length\n",
    "    else:\n",
    "        return largest_square_plot(width, length%width)\n",
    "\n",
    "# Testing\n",
    "print(largest_square_plot(1680, 640))"
   ]
  },
  {
   "cell_type": "markdown",
   "id": "858ffc09-c08c-4ac3-8c5e-6084ec911a31",
   "metadata": {},
   "source": [
    "---\n",
    "\n",
    "## Problem 3: Count Inversions in an Array\n",
    "### Problem:\n",
    "An inversion in an array is a pair of elements such that ` arr[i] > arr[j] for  i < j `. Use a Divide and Conquer approach to count the number of inversions in an array.\n",
    "\n",
    "### Example Input and Output:\n",
    "```python\n",
    "arr = [2, 4, 1, 3, 5]\n",
    "# Output: 3 (Inversions: (2, 1), (4, 1), (4, 3))\n",
    "```\n",
    "\n",
    "### Hint:\n",
    "- **Base case**: If the array has 0 or 1 element, return 0 inversions.\n",
    "- **Recursive steps**:\n",
    "  1. Divide the array into two halves.\n",
    "  2. Count inversions in the left half, the right half, and while merging the two halves."
   ]
  },
  {
   "cell_type": "code",
   "execution_count": 4,
   "id": "8c7161b9-5174-4d05-ae74-0be19e6b934b",
   "metadata": {},
   "outputs": [
    {
     "name": "stdout",
     "output_type": "stream",
     "text": [
      "3\n"
     ]
    }
   ],
   "source": [
    "def count_inversions(arr):\n",
    "    def merge_and_count(left, right):\n",
    "        merged = []\n",
    "        i = j = count = 0\n",
    "        while i < len(left) and j < len(right):\n",
    "            if left[i] <= right[j]:\n",
    "                merged.append(left[i])\n",
    "                i += 1\n",
    "            else:\n",
    "                merged.append(right[j])\n",
    "                j += 1\n",
    "                count += len(left) - i\n",
    "        merged.extend(left[i:])\n",
    "        merged.extend(right[j:])\n",
    "        return merged, count\n",
    "    \n",
    "    def divide_and_count(arr):\n",
    "        if len(arr) < 2:\n",
    "            return arr, 0\n",
    "        mid = len(arr) // 2\n",
    "        left, left_count = divide_and_count(arr[:mid])\n",
    "        right, right_count = divide_and_count(arr[mid:])\n",
    "        merged, merge_count = merge_and_count(left, right)\n",
    "        return merged, left_count + right_count + merge_count\n",
    "    \n",
    "    _, total_count = divide_and_count(arr)\n",
    "    return total_count\n",
    "\n",
    "# Testing\n",
    "print(count_inversions([2, 4, 1, 3, 5]))  # Output: 3"
   ]
  },
  {
   "cell_type": "markdown",
   "id": "ccbf2f86-8ca1-48f4-82e1-8783abfafb55",
   "metadata": {},
   "source": [
    "---\n",
    "\n",
    "## Problem 4: Sort Strings by Length\n",
    "### Problem:\n",
    "Write a function that uses Quicksort to sort a list of strings by their lengths in ascending order.\n",
    "\n",
    "### Example Input and Output:\n",
    "```python\n",
    "arr = [\"apple\", \"banana\", \"kiwi\", \"grape\"]\n",
    "# Output: [\"kiwi\", \"grape\", \"apple\", \"banana\"]\n",
    "```\n",
    "\n",
    "### Hint:\n",
    "- **Base case**: If the list has 0 or 1 string, it is already sorted.\n",
    "- **Recursive steps**: Partition the strings into `shorter` and `longer` based on the length of the pivot string, then recursively sort each partition."
   ]
  },
  {
   "cell_type": "code",
   "execution_count": 6,
   "id": "ff8ce807-bce3-4243-adcf-8d08ad821e01",
   "metadata": {},
   "outputs": [
    {
     "name": "stdout",
     "output_type": "stream",
     "text": [
      "['kiwi', 'grape', 'apple', 'banana']\n"
     ]
    }
   ],
   "source": [
    "def quicksort_by_length(strings):\n",
    "    if len(strings) < 2:\n",
    "        return strings\n",
    "    pivot = strings[0]\n",
    "    shorter = [s for s in strings[1:] if len(s) <= len(pivot)]\n",
    "    longer = [s for s in strings[1:] if len(s) > len(pivot)]\n",
    "    return quicksort_by_length(shorter) + [pivot] + quicksort_by_length(longer)\n",
    "\n",
    "# Testing\n",
    "print(quicksort_by_length([\"apple\", \"banana\", \"kiwi\", \"grape\"]))  # Output: [\"kiwi\", \"grape\", \"apple\", \"banana\"]"
   ]
  },
  {
   "cell_type": "markdown",
   "id": "90efc343-6e63-415d-b147-4ce3804c22bd",
   "metadata": {},
   "source": [
    "## Problem 5: Closest Pair of Points\n",
    "### Problem:\n",
    "Given a set of points in a 2D plane, find the closest pair of points using a Divide and Conquer approach.\n",
    "\n",
    "### Example Input and Output:\n",
    "```python\n",
    "points = [(2, 3), (12, 30), (40, 50), (5, 1), (12, 10), (3, 4)]\n",
    "# Output: Distance between closest points: 1.41\n",
    "```\n",
    "\n",
    "### Hint:\n",
    "- **Base case**: For 2 or 3 points, calculate distances directly.\n",
    "- **Recursive steps**:\n",
    "  1. Divide points into left and right halves based on their x-coordinates.\n",
    "  2. Find the closest pairs in the left and right halves.\n",
    "  3. Consider the closest pair across the dividing line."
   ]
  },
  {
   "cell_type": "code",
   "execution_count": 8,
   "id": "ae9d3678-6a3c-4be6-9c33-2a3aadadc5eb",
   "metadata": {},
   "outputs": [
    {
     "name": "stdout",
     "output_type": "stream",
     "text": [
      "1.4142135623730951\n"
     ]
    }
   ],
   "source": [
    "import math\n",
    "\n",
    "def closest_pair(points):\n",
    "    def distance(p1, p2):\n",
    "        return math.sqrt((p1[0] - p2[0])**2 + (p1[1] - p2[1])**2)\n",
    "\n",
    "    def closest_strip_pair(strip, d):\n",
    "        min_dist = d\n",
    "        strip.sort(key=lambda p: p[1])  # Sort strip by y-coordinates\n",
    "        for i in range(len(strip)):\n",
    "            for j in range(i + 1, len(strip)):\n",
    "                if (strip[j][1] - strip[i][1]) >= min_dist:\n",
    "                    break\n",
    "                min_dist = min(min_dist, distance(strip[i], strip[j]))\n",
    "        return min_dist\n",
    "\n",
    "    def divide_and_conquer(points_sorted):\n",
    "        if len(points_sorted) <= 3:\n",
    "            return min(\n",
    "                distance(points_sorted[i], points_sorted[j])\n",
    "                for i in range(len(points_sorted))\n",
    "                for j in range(i + 1, len(points_sorted))\n",
    "            )\n",
    "        \n",
    "        mid = len(points_sorted) // 2\n",
    "        mid_point = points_sorted[mid]\n",
    "        \n",
    "        left = points_sorted[:mid]\n",
    "        right = points_sorted[mid:]\n",
    "\n",
    "        d_left = divide_and_conquer(left)\n",
    "        d_right = divide_and_conquer(right)\n",
    "\n",
    "        d = min(d_left, d_right)\n",
    "\n",
    "        strip = [p for p in points_sorted if abs(p[0] - mid_point[0]) < d]\n",
    "        return min(d, closest_strip_pair(strip, d))\n",
    "\n",
    "    points_sorted = sorted(points, key=lambda x: x[0])\n",
    "    return divide_and_conquer(points_sorted)\n",
    "\n",
    "# Testing\n",
    "points = [(2, 3), (12, 30), (40, 50), (5, 1), (12, 10), (3, 4)]\n",
    "print(closest_pair(points))  # Output: ~1.41\n"
   ]
  },
  {
   "cell_type": "markdown",
   "id": "ba50bb74-de64-4810-b2dd-5534c0209b1c",
   "metadata": {},
   "source": [
    "---"
   ]
  }
 ],
 "metadata": {
  "kernelspec": {
   "display_name": "Python 3 (ipykernel)",
   "language": "python",
   "name": "python3"
  },
  "language_info": {
   "codemirror_mode": {
    "name": "ipython",
    "version": 3
   },
   "file_extension": ".py",
   "mimetype": "text/x-python",
   "name": "python",
   "nbconvert_exporter": "python",
   "pygments_lexer": "ipython3",
   "version": "3.11.5"
  }
 },
 "nbformat": 4,
 "nbformat_minor": 5
}
