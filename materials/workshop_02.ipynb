{
 "cells": [
  {
   "cell_type": "markdown",
   "id": "4f9fc856-08a5-48a2-9e74-9bbe921a898a",
   "metadata": {},
   "source": [
    "# Selection Sort\n",
    "\n",
    "## Objective\n",
    "In this lab, students will:\n",
    "- Experiment with the Selection Sort algorithm through interactive challenges.\n",
    "- Investigate the impact of sorting order on performance.\n",
    "- Implement a custom variation of the algorithm for unique scenarios.\n",
    "\n",
    "\n",
    "## Instructions\n",
    "- Work through each exercise step by step.\n",
    "- Collaborate with peers for brainstorming and debugging.\n",
    "- Write comments in your code to explain your logic.\n",
    "- Submit your completed solutions at the end of the session.\n",
    "\n",
    "---\n",
    "\n",
    "## Exercise 1: Debug and Fix\n",
    "You are given a broken implementation of the `selectionSort` function. Debug and fix it.\n",
    "\n",
    "### Code:\n",
    "```python\n",
    "# Broken implementation of selection sort\n",
    "# Your task: Find and fix the issues\n",
    "\n",
    "def selectionSort(arr):\n",
    "    for i in range(len(arr)):\n",
    "        smallest_index = i\n",
    "        for j in range(i, len(arr)):\n",
    "            if arr[j] > arr[smallest_index]:  # Logical error here\n",
    "                smallest_index = j\n",
    "        # Missing swap logic\n",
    "    return arr\n",
    "\n",
    "# Test the function with a sample input\n",
    "arr = [5, 3, 6, 2, 10]\n",
    "print(selectionSort(arr))\n",
    "```\n",
    "\n",
    "### Instructions:\n",
    "- Identify logical errors in the code.\n",
    "- Fix the errors to correctly sort the array in ascending order.\n",
    "- Test the fixed implementation with different inputs.\n",
    "\n",
    "---"
   ]
  },
  {
   "cell_type": "code",
   "execution_count": null,
   "id": "ff322e8c-ee55-4e02-bcdf-a3d536b42a6d",
   "metadata": {},
   "outputs": [],
   "source": [
    "\n",
    "\n",
    "\n",
    "\n"
   ]
  },
  {
   "cell_type": "markdown",
   "id": "75b6e2aa-ec56-4223-a641-123400074241",
   "metadata": {},
   "source": [
    "## Exercise 2: Experiment with Order of Elements\n",
    "Analyze how the order of elements in the input affects the performance of Selection Sort.\n",
    "\n",
    "### Instructions:\n",
    "1. Write a function to generate arrays with the following orders:\n",
    "    - Random order.\n",
    "    - Already sorted.\n",
    "    - Reverse sorted.\n",
    "2. Run your `selectionSort` function on each of these arrays with increasing sizes (e.g., 100, 500, 1000).\n",
    "3. Measure the time taken for each case using Python’s `time` module.\n",
    "4. Record and discuss your observations.\n",
    "\n",
    "### Example Code:\n",
    "```python\n",
    "import time\n",
    "import random\n",
    "\n",
    "# Generate arrays with different orders\n",
    "random_array = [random.randint(0, 1000) for _ in range(1000)]\n",
    "sorted_array = sorted(random_array)\n",
    "reverse_sorted_array = sorted(random_array, reverse=True)\n",
    "\n",
    "# Measure time for each case\n",
    "start = time.time()\n",
    "selectionSort(random_array)\n",
    "print(\"Random order time:\", time.time() - start)\n",
    "\n",
    "start = time.time()\n",
    "selectionSort(sorted_array)\n",
    "print(\"Sorted order time:\", time.time() - start)\n",
    "\n",
    "start = time.time()\n",
    "selectionSort(reverse_sorted_array)\n",
    "print(\"Reverse sorted order time:\", time.time() - start)\n",
    "```\n",
    "\n",
    "---"
   ]
  },
  {
   "cell_type": "code",
   "execution_count": null,
   "id": "89246de1-935e-449a-b144-1dc9d16ec57e",
   "metadata": {},
   "outputs": [],
   "source": []
  },
  {
   "cell_type": "markdown",
   "id": "b06b1fb0-2e6e-4eb7-8709-ba14db8c6044",
   "metadata": {},
   "source": [
    "## Exercise 3: Visualize the Sorting Process \n",
    "Create a simple visualization of how Selection Sort works.\n",
    "\n",
    "### Task:\n",
    "Write a script to print the array after every iteration of Selection Sort.\n",
    "\n",
    "### Example Output:\n",
    "```python\n",
    "# Input: [5, 3, 6, 2, 10]\n",
    "# Output:\n",
    "Iteration 1: [2, 3, 6, 5, 10]\n",
    "Iteration 2: [2, 3, 6, 5, 10]\n",
    "Iteration 3: [2, 3, 5, 6, 10]\n",
    "Iteration 4: [2, 3, 5, 6, 10]\n",
    "Iteration 5: [2, 3, 5, 6, 10]\n",
    "```\n",
    "\n",
    "### Instructions:\n",
    "1. Modify your `selectionSort` function to print the array at each step.\n",
    "2. Test with small input arrays to observe the changes.\n",
    "\n",
    "---\n"
   ]
  },
  {
   "cell_type": "code",
   "execution_count": null,
   "id": "d5d52d89-1b46-4cfc-8f13-3ac70321c0f7",
   "metadata": {},
   "outputs": [],
   "source": [
    "\n",
    "\n",
    "\n",
    "\n"
   ]
  },
  {
   "cell_type": "markdown",
   "id": "e2eb26f9-9652-4c7e-b7fe-77617f57b004",
   "metadata": {},
   "source": [
    "## Exercise 4: Customize Selection Sort \n",
    "Create a customized version of Selection Sort to sort a list of tuples based on a specific element.\n",
    "\n",
    "### Task:\n",
    "Write a function `selectionSortByKey` that sorts a list of tuples by the second element of each tuple.\n",
    "\n",
    "### Example Input and Output:\n",
    "```python\n",
    "# Input:\n",
    "arr = [(\"Alice\", 25), (\"Bob\", 20), (\"Charlie\", 30)]\n",
    "selectionSortByKey(arr)\n",
    "\n",
    "# Output:\n",
    "[(\"Bob\", 20), (\"Alice\", 25), (\"Charlie\", 30)]\n",
    "```\n",
    "\n",
    "### Instructions:\n",
    "- Modify the logic of Selection Sort to work with tuples.\n",
    "- Ensure it sorts by the second element of each tuple.\n",
    "\n",
    "---\n",
    "\n"
   ]
  },
  {
   "cell_type": "code",
   "execution_count": null,
   "id": "b46d2132-13d0-4e6d-952f-4f4be9f2e53d",
   "metadata": {},
   "outputs": [],
   "source": [
    "\n",
    "\n",
    "\n"
   ]
  },
  {
   "cell_type": "markdown",
   "id": "b5d1db6e-6418-4ef1-ac66-e6687fc16984",
   "metadata": {},
   "source": [
    "## Submission\n",
    "Ensure all your code is properly commented and your observations are documented. Submit your solutions as a Jupyter notebook.\n",
    "\n",
    "---"
   ]
  }
 ],
 "metadata": {
  "kernelspec": {
   "display_name": "Python 3 (ipykernel)",
   "language": "python",
   "name": "python3"
  },
  "language_info": {
   "codemirror_mode": {
    "name": "ipython",
    "version": 3
   },
   "file_extension": ".py",
   "mimetype": "text/x-python",
   "name": "python",
   "nbconvert_exporter": "python",
   "pygments_lexer": "ipython3",
   "version": "3.12.5"
  }
 },
 "nbformat": 4,
 "nbformat_minor": 5
}
