{
 "cells": [
  {
   "cell_type": "markdown",
   "id": "80891446-3ab6-4eca-81db-d48f4a622534",
   "metadata": {},
   "source": [
    "# Linked Lists\n",
    "\n",
    "## Objective\n",
    "In this lab, students will:\n",
    "- Implement the Linked List data structure in Python.\n",
    "- Practice basic operations such as insertion, deletion, and traversal.\n",
    "- Explore a practical application of Linked Lists.\n",
    "\n",
    "---"
   ]
  },
  {
   "cell_type": "markdown",
   "id": "e7f92c12-cbdb-4e83-8210-84345b02ff65",
   "metadata": {},
   "source": [
    "## Exercise 1: Implement a Node Class (15 minutes)\n",
    "\n",
    "### Task:\n",
    "Create a `Node` class to represent each element in a linked list.\n",
    "\n",
    "\n",
    "\n",
    "### Instructions:\n",
    "- Write a `Node` class with attributes `data` and `next`.\n",
    "- Test your class by creating a few nodes and linking them together manually.\n",
    "\n",
    "---\n"
   ]
  },
  {
   "cell_type": "code",
   "execution_count": 1,
   "id": "3f29b0df-eecf-4099-9630-1fc610778850",
   "metadata": {},
   "outputs": [
    {
     "name": "stdout",
     "output_type": "stream",
     "text": [
      "10 -> 20 -> None\n"
     ]
    }
   ],
   "source": [
    "class Node:\n",
    "    def __init__(self, data):\n",
    "        self.data = data\n",
    "        self.next = None\n",
    "\n",
    "    def __str__(self):\n",
    "        return f'{self.data} -> {self.next}'\n",
    "        \n",
    "\n",
    "\n",
    "node1 = Node(10)\n",
    "node2 = Node(20)\n",
    "node1.next = node2  \n",
    "print(node1)\n"
   ]
  },
  {
   "cell_type": "markdown",
   "id": "8dd4aaf8-6b42-4244-bb63-781dba7c98e8",
   "metadata": {},
   "source": [
    "## Exercise 2: Implement a Linked List Class (30 minutes)\n",
    "\n",
    "### Task:\n",
    "Create a `LinkedList` class that supports basic operations like insertion, deletion, and traversal.\n",
    "\n",
    "\n",
    "### Instructions:\n",
    "- Write a `LinkedList` class with the following methods:\n",
    "  - `insert(data)`: Inserts a new node at the beginning of the list.\n",
    "  - `traverse()`: Prints all the elements in the linked list.\n",
    "- Test your implementation with a few examples.\n",
    "\n",
    "---\n"
   ]
  },
  {
   "cell_type": "code",
   "execution_count": 75,
   "id": "28051552-c595-48d6-819c-3cffbdf0a8c6",
   "metadata": {},
   "outputs": [
    {
     "name": "stdout",
     "output_type": "stream",
     "text": [
      "10 -> 20 -> 30 -> None\n"
     ]
    }
   ],
   "source": [
    "class LinkedList:\n",
    "    \n",
    "    def __init__(self):\n",
    "        self.head = None\n",
    "\n",
    "    def insert(self, data):\n",
    "        new_node = Node(data)\n",
    "        new_node.next = self.head\n",
    "        self.head = new_node\n",
    "\n",
    "    def traverse(self):\n",
    "        print(self.head)\n",
    "\n",
    "\n",
    "ll = LinkedList()\n",
    "ll.insert(30)\n",
    "ll.insert(20)\n",
    "ll.insert(10)\n",
    "ll.traverse()  \n"
   ]
  },
  {
   "cell_type": "markdown",
   "id": "a28720e9-eb9c-4dc4-9050-c8aef66392c1",
   "metadata": {},
   "source": [
    "## Exercise 3: Delete a Node (30 minutes)\n",
    "\n",
    "### Task:\n",
    "Add a `delete` method to the `LinkedList` class that removes a node with a given value.\n",
    "\n",
    "### Example Code:\n",
    "```python\n",
    "def delete(self, key):\n",
    "    current = self.head\n",
    "    previous = None\n",
    "\n",
    "    while current and current.data != key:\n",
    "        previous = current\n",
    "        current = current.next\n",
    "\n",
    "    if current is None:\n",
    "        print(f\"{key} not found in the list.\")\n",
    "        return\n",
    "\n",
    "    if previous is None:\n",
    "        self.head = current.next  # Deleting the head node\n",
    "    else:\n",
    "        previous.next = current.next  # Bypassing the node to delete\n",
    "\n",
    "# Add delete method to the LinkedList class and test it\n",
    "ll.delete(20)\n",
    "ll.traverse()  # Output: 10 -> 30 -> None\n",
    "```\n",
    "\n",
    "### Instructions:\n",
    "- Add a `delete(key)` method to your `LinkedList` class.\n",
    "- Ensure your code handles edge cases such as deleting the head node or a non-existent node.\n",
    "\n",
    "---\n"
   ]
  },
  {
   "cell_type": "code",
   "execution_count": 82,
   "id": "7c430729-5bda-491b-b703-ff5eb118182c",
   "metadata": {},
   "outputs": [],
   "source": [
    "class LinkedList:\n",
    "    \n",
    "    def __init__(self):\n",
    "        self.head = None\n",
    "\n",
    "    def insert(self, data):\n",
    "        new_node = Node(data)\n",
    "        new_node.next = self.head\n",
    "        self.head = new_node\n",
    "\n",
    "    def traverse(self):\n",
    "        print(self.head)\n",
    "\n",
    "    def delete(self, data):\n",
    "        current = self.head\n",
    "        previous = None\n",
    "        while (current is not None) and (current.data != data):\n",
    "            previous = current\n",
    "            current = current.next\n",
    "            \n",
    "        if current is None:\n",
    "            print(f'Delete {data} failed: data not found')\n",
    "        elif previous is None:\n",
    "            self.head = current.next\n",
    "        elif current.next is None:\n",
    "            previous.next = None\n",
    "        else:\n",
    "            previous.next = current.next\n",
    "                               "
   ]
  },
  {
   "cell_type": "code",
   "execution_count": 83,
   "id": "a7e0db39-1618-4ec2-865b-54eb2f018cbb",
   "metadata": {},
   "outputs": [
    {
     "name": "stdout",
     "output_type": "stream",
     "text": [
      "1 -> 5 -> 10 -> 20 -> 30 -> None\n",
      "Delete 1111 failed: data not found\n",
      "1 -> 5 -> 10 -> 20 -> 30 -> None\n",
      "5 -> 10 -> 20 -> 30 -> None\n",
      "5 -> 10 -> 20 -> None\n",
      "5 -> 20 -> None\n"
     ]
    }
   ],
   "source": [
    "x = LinkedList()\n",
    "x.insert(30)\n",
    "x.insert(20)\n",
    "x.insert(10)\n",
    "x.insert(5)\n",
    "x.insert(1)\n",
    "x.traverse()\n",
    "\n",
    "x.delete(1111)\n",
    "x.traverse()\n",
    "\n",
    "x.delete(1)\n",
    "x.traverse()\n",
    "\n",
    "x.delete(30)\n",
    "x.traverse()\n",
    "\n",
    "x.delete(10)\n",
    "x.traverse()\n"
   ]
  },
  {
   "cell_type": "markdown",
   "id": "56d00846-1d54-423f-8adb-f77107519282",
   "metadata": {},
   "source": [
    "## Exercise 4: Application: Implement a Queue Using Linked List (45 minutes)\n",
    "\n",
    "### Task:\n",
    "Use the `LinkedList` class to implement a Queue data structure with `enqueue` and `dequeue` operations.\n",
    "\n",
    "### Example Code:\n",
    "```python\n",
    "class Queue:\n",
    "    def __init__(self):\n",
    "        self.linked_list = LinkedList()\n",
    "\n",
    "    def enqueue(self, data):\n",
    "        new_node = Node(data)\n",
    "        if not self.linked_list.head:\n",
    "            self.linked_list.head = new_node\n",
    "        else:\n",
    "            current = self.linked_list.head\n",
    "            while current.next:\n",
    "                current = current.next\n",
    "            current.next = new_node\n",
    "\n",
    "    def dequeue(self):\n",
    "        if not self.linked_list.head:\n",
    "            print(\"Queue is empty.\")\n",
    "            return None\n",
    "        data = self.linked_list.head.data\n",
    "        self.linked_list.head = self.linked_list.head.next\n",
    "        return data\n",
    "\n",
    "# Test the Queue implementation\n",
    "queue = Queue()\n",
    "queue.enqueue(10)\n",
    "queue.enqueue(20)\n",
    "queue.enqueue(30)\n",
    "print(queue.dequeue())  # Output: 10\n",
    "print(queue.dequeue())  # Output: 20\n",
    "queue.enqueue(40)\n",
    "queue.linked_list.traverse()  # Output: 30 -> 40 -> None\n",
    "```\n",
    "\n",
    "### Instructions:\n",
    "- Implement a `Queue` class using the `LinkedList` class.\n",
    "- Write methods `enqueue(data)` to add an element to the queue and `dequeue()` to remove the front element.\n",
    "- Test your implementation with various examples.\n",
    "\n",
    "---\n"
   ]
  },
  {
   "cell_type": "code",
   "execution_count": null,
   "id": "7134c112-05b8-4155-b6c9-4cc8791c90d2",
   "metadata": {},
   "outputs": [],
   "source": [
    "\n",
    "\n",
    "\n",
    "\n"
   ]
  },
  {
   "cell_type": "markdown",
   "id": "f515f7d0-5243-4509-9a00-9c9160910d5f",
   "metadata": {},
   "source": [
    "## Submission\n",
    "\n",
    "Ensure all your code is properly commented and your results are clearly displayed. Submit your solutions as instructed.\n",
    "\n",
    "---"
   ]
  }
 ],
 "metadata": {
  "kernelspec": {
   "display_name": "Python 3 (ipykernel)",
   "language": "python",
   "name": "python3"
  },
  "language_info": {
   "codemirror_mode": {
    "name": "ipython",
    "version": 3
   },
   "file_extension": ".py",
   "mimetype": "text/x-python",
   "name": "python",
   "nbconvert_exporter": "python",
   "pygments_lexer": "ipython3",
   "version": "3.11.5"
  }
 },
 "nbformat": 4,
 "nbformat_minor": 5
}
