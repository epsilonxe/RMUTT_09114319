{
 "cells": [
  {
   "cell_type": "markdown",
   "id": "b0e3ca2c-e080-4947-9d1f-07c57e1f61bb",
   "metadata": {},
   "source": [
    "# Recursion in Action\n",
    "\n",
    "**Objective**\n",
    "\n",
    "This workshop will help you:\n",
    "\n",
    "- Understand and implement recursive functions step-by-step.\n",
    "- Explore how recursion simplifies solving complex problems.\n",
    "- Apply recursion to real-world scenarios.\n",
    "\n",
    "The exercises include explanations to guide your understanding and build your confidence."
   ]
  },
  {
   "cell_type": "markdown",
   "id": "28bc5039-12b8-48d3-8db9-55e003fc9e62",
   "metadata": {},
   "source": [
    "## Exercise 1: Recursive Sum of a List (20 minutes)\n",
    "\n",
    "### Introduction\n",
    "The goal is to find the sum of all elements in a list. Recursion can simplify this by breaking the list into smaller parts:\n",
    "\n",
    "Add the first element to the sum of the remaining list.\n",
    "Stop when the list is empty (base case).\n",
    "\n",
    "### Problem:\n",
    "Write a recursive function to calculate the sum of all elements in a list.\n",
    "\n",
    "### Function Signature"
   ]
  },
  {
   "cell_type": "code",
   "execution_count": 2,
   "id": "1aeb0aae-279b-48a4-aeed-d09a9caf415a",
   "metadata": {},
   "outputs": [],
   "source": [
    "def recursive_sum(arr):\n",
    "    if not arr:  # Base case: empty list\n",
    "        return 0\n",
    "    return arr[0] + recursive_sum(arr[1:])  # Recursive case"
   ]
  },
  {
   "cell_type": "markdown",
   "id": "354f5dec-d054-47fc-8695-8148df084377",
   "metadata": {},
   "source": [
    "#### Example Input and Output\n",
    "\n",
    "```python\n",
    "print(recursive_sum([1, 2, 3, 4, 5]))  # Output: 15\n",
    "print(recursive_sum([]))              # Output: 0\n",
    "```\n"
   ]
  },
  {
   "cell_type": "code",
   "execution_count": 3,
   "id": "2c19b0de-0df4-48e9-b46c-0b3cc2c7deb1",
   "metadata": {},
   "outputs": [
    {
     "name": "stdout",
     "output_type": "stream",
     "text": [
      "15\n",
      "0\n"
     ]
    }
   ],
   "source": [
    "print(recursive_sum([1, 2, 3, 4, 5]))  # Output: 15\n",
    "print(recursive_sum([]))              # Output: 0"
   ]
  },
  {
   "cell_type": "markdown",
   "id": "8f293b65-efce-4a00-96d5-4574cb638c8e",
   "metadata": {},
   "source": [
    "---\n",
    "\n",
    "## Exercise 2: Recursive Palindrome Check (30 minutes)\n",
    "\n",
    "### Introduction\n",
    "A palindrome is a string that reads the same forward and backward (e.g., \"radar\" or \"level\"). Using recursion, you can:\n",
    "\n",
    "Compare the first and last characters of the string.\n",
    "Recursively check the remaining substring.\n",
    "Stop when the string is empty or has one character (base case).\n",
    "\n",
    "### Problem:\n",
    "Write a recursive function to check if a string is a palindrome.\n",
    "\n",
    "### Function Signature"
   ]
  },
  {
   "cell_type": "code",
   "execution_count": 4,
   "id": "96d01ccf-6296-47b1-ab1f-966b1ad0953f",
   "metadata": {},
   "outputs": [],
   "source": [
    "def is_palindrome(s):\n",
    "    if len(s) <= 1:  # Base case: string is empty or a single character\n",
    "        return True\n",
    "    if s[0] != s[-1]:  # Check first and last characters\n",
    "        return False\n",
    "    return is_palindrome(s[1:-1])  # Recursive case: remove first and last characters\n"
   ]
  },
  {
   "cell_type": "markdown",
   "id": "40911e9b-5f22-4b7d-89d8-fd297987d094",
   "metadata": {},
   "source": [
    "### Example Input and Output:\n",
    "\n",
    "```python\n",
    "print(is_palindrome(\"radar\"))  # Output: True\n",
    "print(is_palindrome(\"hello\"))  # Output: False\n",
    "print(is_palindrome(\"\"))       # Output: True\n",
    "```"
   ]
  },
  {
   "cell_type": "code",
   "execution_count": 5,
   "id": "e90c5982-e2a1-468c-b94e-e02e18b8a946",
   "metadata": {},
   "outputs": [
    {
     "name": "stdout",
     "output_type": "stream",
     "text": [
      "True\n",
      "False\n",
      "True\n"
     ]
    }
   ],
   "source": [
    "print(is_palindrome(\"radar\"))  # Output: True\n",
    "print(is_palindrome(\"hello\"))  # Output: False\n",
    "print(is_palindrome(\"\"))       # Output: True\n"
   ]
  },
  {
   "cell_type": "markdown",
   "id": "1e28f231-62eb-4485-8006-167863ffbc32",
   "metadata": {},
   "source": [
    "---\n",
    "\n",
    "## Exercise 3: Recursive Fibonacci (30 minutes)\n",
    "\n",
    "### Introduction:\n",
    "\n",
    "The Fibonacci sequence is a series of numbers where each number is the sum of the two preceding ones:\n",
    "\n",
    "$$\n",
    "F_0 = 0, \\, F_1 = 1, \\, F_n = F_{n-1} + F_{n-2} \\, \\text{ for } \\, n > 1\n",
    "$$\n",
    "\n",
    "#### Example: \n",
    "\n",
    "$$ 0, 1, 1, 2, 3, 5, 8, \\dots $$\n",
    "\n",
    "#### Using recursion:\n",
    "- Base cases: $$ F_0 = 0, F_1 = 1 $$\n",
    "- Recursive case: $$ F_n = F_{n-1} + F_{n-2} $$\n",
    "\n",
    "\n",
    "\n",
    "### Problem\n",
    "Write a recursive function to calculate the nth Fibonacci number.\n",
    "\n",
    "### Function Signature"
   ]
  },
  {
   "cell_type": "code",
   "execution_count": 11,
   "id": "ef3c6792-f440-4132-9a5f-89167ca76d8c",
   "metadata": {},
   "outputs": [],
   "source": [
    "def fibonacci(n):\n",
    "    if n <= 1:  # Base cases: n is 0 or 1\n",
    "        return n\n",
    "    return fibonacci(n - 1) + fibonacci(n - 2)  # Recursive case\n"
   ]
  },
  {
   "cell_type": "markdown",
   "id": "951bb10f-1fe8-4be6-b0a3-9dc3bede087c",
   "metadata": {},
   "source": [
    "### Example Input and Output\n",
    "\n",
    "```python\n",
    "print(fibonacci(5))  # Output: 5\n",
    "print(fibonacci(7))  # Output: 13\n",
    "```"
   ]
  },
  {
   "cell_type": "code",
   "execution_count": 13,
   "id": "f0370ea0-91b7-413a-8923-ba2ccdfb785b",
   "metadata": {},
   "outputs": [
    {
     "name": "stdout",
     "output_type": "stream",
     "text": [
      "5\n",
      "13\n"
     ]
    }
   ],
   "source": [
    "print(fibonacci(5))  # Output: 5\n",
    "print(fibonacci(7))  # Output: 13"
   ]
  },
  {
   "cell_type": "markdown",
   "id": "3e1301bf-7b15-4928-93ce-5a9057d8e05a",
   "metadata": {},
   "source": [
    "---\n",
    "\n",
    "## Exercise 4: Towers of Hanoi (40 minutes)\n",
    "\n",
    "### Introduction:\n",
    "The Towers of Hanoi is a classic recursion problem. It involves moving $n$ disks from a source rod to a target rod using an auxiliary rod, following these rules:\n",
    "1. Only one disk can be moved at a time.\n",
    "2. A disk can only be placed on top of a larger disk.\n",
    "3. The goal is to move all disks to the target rod.\n",
    "\n",
    "<img src='tower_hanoi.png'>\n",
    "\n",
    "### Problem:\n",
    "Write a recursive function to solve the Towers of Hanoi problem.\n"
   ]
  },
  {
   "cell_type": "code",
   "execution_count": 6,
   "id": "f143a756-0c2e-4576-ae77-43114fc40ced",
   "metadata": {},
   "outputs": [],
   "source": [
    "def hanoi(n, source, target, auxiliary):\n",
    "    if n == 1:  # Base case: one disk\n",
    "        print(f\"Move disk 1 from {source} to {target}\")\n",
    "        return\n",
    "    # Recursive case\n",
    "    hanoi(n - 1, source, auxiliary, target)  # Move n-1 disks to auxiliary\n",
    "    print(f\"Move disk {n} from {source} to {target}\")  # Move nth disk to target\n",
    "    hanoi(n - 1, auxiliary, target, source)  # Move n-1 disks from auxiliary to target\n"
   ]
  },
  {
   "cell_type": "markdown",
   "id": "37136d26-749d-4025-99ee-a4040e3f1fd5",
   "metadata": {},
   "source": [
    "### Example Input and Output:\n",
    "```python\n",
    "hanoi(2, \"A\", \"C\", \"B\")\n",
    "# Expected Output:\n",
    "# Move disk 1 from A to B\n",
    "# Move disk 2 from A to C\n",
    "# Move disk 1 from B to C\n",
    "```"
   ]
  },
  {
   "cell_type": "code",
   "execution_count": 10,
   "id": "cad55056-b538-4686-b820-d2ab73cc9e80",
   "metadata": {},
   "outputs": [
    {
     "name": "stdout",
     "output_type": "stream",
     "text": [
      "Move disk 1 from A to B\n",
      "Move disk 2 from A to C\n",
      "Move disk 1 from B to C\n"
     ]
    }
   ],
   "source": [
    "hanoi(2, \"A\", \"C\", \"B\")"
   ]
  },
  {
   "cell_type": "markdown",
   "id": "8e550723-d1c9-4d0a-9605-affc0fc50bf8",
   "metadata": {},
   "source": [
    "----"
   ]
  }
 ],
 "metadata": {
  "kernelspec": {
   "display_name": "Python 3 (ipykernel)",
   "language": "python",
   "name": "python3"
  },
  "language_info": {
   "codemirror_mode": {
    "name": "ipython",
    "version": 3
   },
   "file_extension": ".py",
   "mimetype": "text/x-python",
   "name": "python",
   "nbconvert_exporter": "python",
   "pygments_lexer": "ipython3",
   "version": "3.11.5"
  }
 },
 "nbformat": 4,
 "nbformat_minor": 5
}
