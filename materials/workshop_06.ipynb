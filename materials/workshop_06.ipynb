{
 "cells": [
  {
   "cell_type": "markdown",
   "id": "ccb54122-47e6-423c-8f1a-4123491cd0ef",
   "metadata": {},
   "source": [
    "# Workshop: Understanding and Applying Hash Tables\n",
    "\n",
    "### Objective\n",
    "- Learn how to **map strings to integers** using **mathematical hash functions**.\n",
    "- Implement **custom hashing algorithms** rather than using built-in hash functions.\n",
    "- Solve practical problems where **hash tables** provide optimal solutions.\n",
    "- Reinforce key concepts: **collisions, efficiency, and practical applications**.\n",
    "\n",
    "---"
   ]
  },
  {
   "cell_type": "markdown",
   "id": "1a161bb9-903f-43aa-a7c3-1d4d6d87a4a4",
   "metadata": {},
   "source": [
    "## Problem 1: Converting Strings to Numbers (20 min)\n",
    "### **Problem Statement**\n",
    "Write a function that converts a **string** into an **integer** using **ASCII values** of its characters.\n",
    "\n",
    "### **Example Input:**\n",
    "```python\n",
    "string_to_int(\"apple\")\n",
    "```\n",
    "### **Example Output:**\n",
    "```python\n",
    "495  # Sum of ASCII values: 'a' + 'p' + 'p' + 'l' + 'e'\n",
    "```\n",
    "\n",
    "### **Hint**\n",
    "- Use `ord(char)` to get the ASCII value of a character.\n",
    "- Sum all ASCII values.\n"
   ]
  },
  {
   "cell_type": "code",
   "execution_count": null,
   "id": "257ef38a-681f-49e6-8182-548211b88e91",
   "metadata": {},
   "outputs": [],
   "source": [
    "def string_to_int(s):\n",
    "    pass\n",
    "\n",
    "# Testing\n",
    "print(string_to_int(\"apple\"))  # Output: 495\n",
    "print(string_to_int(\"banana\"))  # Output: 609"
   ]
  },
  {
   "cell_type": "markdown",
   "id": "7b2782ee-b3a9-4d68-be30-29f2fb2d8b5e",
   "metadata": {},
   "source": [
    "---\n",
    "\n",
    "## Problem 2: Implementing a Simple Hash Function (25 min)\n",
    "### **Problem Statement**\n",
    "Using the **previous function**, implement a **basic hash function** that maps a string to a **hash table index**.\n",
    "\n",
    "### **Example Input:**\n",
    "```python\n",
    "hash_function(\"apple\", 10)\n",
    "```\n",
    "### **Example Output:**\n",
    "```python\n",
    "5  # Result of (495 mod 10)\n",
    "```\n",
    "\n",
    "### **Hint**\n",
    "- Use **modulo operation** (`% table_size`) to ensure values fit in the hash table.\n"
   ]
  },
  {
   "cell_type": "code",
   "execution_count": null,
   "id": "54090279-a7ac-4220-b0bc-1459e6336823",
   "metadata": {},
   "outputs": [],
   "source": [
    "def hash_function(s, table_size):\n",
    "    pass\n",
    "\n",
    "# Testing\n",
    "print(hash_function(\"apple\", 10))  # Output: 5\n",
    "print(hash_function(\"banana\", 10))  # Output: 9"
   ]
  },
  {
   "cell_type": "markdown",
   "id": "bd575288-6895-44b8-b5d6-e4d8c2e2c495",
   "metadata": {},
   "source": [
    "---\n",
    "\n",
    "## Problem 3: Handling Collisions with Chaining (30 min)\n",
    "### **Problem Statement**\n",
    "Modify the previous hash function to handle **collisions** using **chaining** (storing values in lists at each index).\n",
    "\n",
    "### **Functionality**\n",
    "- Implement a **hash table** with an array of lists.\n",
    "- Handle **collisions** by appending values to a list.\n",
    "\n",
    "### **Example Usage:**\n",
    "```python\n",
    "ht = HashTable(10)\n",
    "ht.insert(\"apple\", 0.67)\n",
    "ht.insert(\"banana\", 1.49)\n",
    "ht.insert(\"orange\", 0.99)\n",
    "print(ht.lookup(\"banana\"))  # Output: 1.49\n",
    "```\n",
    "\n",
    "### **Hint**\n",
    "- Use a **list of lists** for the table.\n",
    "- Append colliding values into the same list.\n"
   ]
  },
  {
   "cell_type": "code",
   "execution_count": null,
   "id": "22e67dcb-9cbe-4eab-b265-d1dc2a93fb35",
   "metadata": {},
   "outputs": [],
   "source": [
    "class HashTable:\n",
    "    pass\n",
    "\n",
    "# Testing\n",
    "ht = HashTable(10)\n",
    "ht.insert(\"apple\", 0.67)\n",
    "ht.insert(\"banana\", 1.49)\n",
    "print(ht.lookup(\"banana\"))  # Output: 1.49"
   ]
  },
  {
   "cell_type": "markdown",
   "id": "2e466dde-c127-4049-9793-1ab0d0938635",
   "metadata": {},
   "source": [
    "---\n",
    "\n",
    "## Problem 4: Checking for Anagrams using Hashing (30 min)\n",
    "\n",
    "### **Definition of Anagram**\n",
    "Two words are **anagrams** if they **contain the same characters with the same frequencies**, but possibly in a different order.  \n",
    "For example, `\"listen\"` and `\"silent\"` are anagrams because they both consist of the letters `{l, i, s, t, e, n}` appearing exactly once.\n",
    "\n",
    "### **Problem Statement**\n",
    "Check if two words are **anagrams** using **hashing techniques**.\n",
    "\n",
    "### **Example Input:**\n",
    "```python\n",
    "are_anagrams(\"listen\", \"silent\")\n",
    "```\n",
    "### **Example Output:**\n",
    "```python\n",
    "True\n",
    "```\n",
    "\n",
    "### **Hint**\n",
    "- Count character **frequencies** using a **hash table**.\n",
    "- Compare the two frequency tables.\n"
   ]
  },
  {
   "cell_type": "code",
   "execution_count": null,
   "id": "ae2d4cbf-ca38-4eb1-a2a5-ad4f2e1e9598",
   "metadata": {},
   "outputs": [],
   "source": [
    "def are_anagrams(word1, word2):\n",
    "    pass\n",
    "\n",
    "# Testing\n",
    "print(are_anagrams(\"listen\", \"silent\"))  # Output: True\n",
    "print(are_anagrams(\"hello\", \"world\"))    # Output: False"
   ]
  },
  {
   "cell_type": "markdown",
   "id": "e12ad9a3-2322-401e-839f-5b3a46c32733",
   "metadata": {},
   "source": [
    "---\n",
    "\n",
    "## Problem 5: Implementing a URL Shortener (35 min)\n",
    "\n",
    "### **Problem Statement**\n",
    "Implement a simple **URL shortener** using a **custom hash function**.\n",
    "\n",
    "### **Functionality**\n",
    "1. `shorten(url)`: Assigns a short **hash code** to a URL.\n",
    "2. `expand(short_code)`: Retrieves the original URL.\n",
    "\n",
    "### **Example Usage:**\n",
    "```python\n",
    "shortener = URLShortener()\n",
    "code = shortener.shorten(\"https://example.com\")\n",
    "print(code)  # Output: A short hash\n",
    "print(shortener.expand(code))  # Output: \"https://example.com\"\n",
    "```\n",
    "\n",
    "### **Hint: Hashing Algorithm Explanation**\n",
    "Instead of using Python's built-in `hash()`, we will **design our own hash function** based on **modular arithmetic and prime numbers**.\n",
    "\n",
    "#### **Mathematical Definition**\n",
    "A **hash function** \\( h \\) is a function that maps an input string $ x $ to an integer in a fixed range:\n",
    "\n",
    "$$\n",
    "h(x) = f(x) \\textrm{ mod } M\n",
    "$$\n",
    "where:\n",
    "- $ f(x) $ is a function that transforms $ x $ into a numerical representation.\n",
    "- $ M $ is a prime number chosen as the hash table size to reduce collisions.\n",
    "\n",
    "#### **Prime-Based Hashing**\n",
    "One common way to compute $ f(x) $ for a string is:\n",
    "$$\n",
    "f(x) = \\sum_{i=0}^{n-1} \\text{ord}(x_i) \\times p^i\n",
    "$$\n",
    "where:\n",
    "- $ x_i $ is the $ i $-th character of the string.\n",
    "- $ \\text{ord}(x_i) $ is the ASCII value of $ x_i $.\n",
    "- $ p $ is a prime number (e.g., $ p = 31 $) used to reduce collisions.\n",
    "- $ n $ is the length of the string.\n",
    "\n",
    "To ensure better distribution and fewer collisions, we take:\n",
    "$$M=10000019$$\n",
    "which is a large prime number close to 10 million.\n",
    "\n",
    "Then, we compute:\n",
    "$$\n",
    "h(x) = f(x) \\textrm{ mod } 10000019\n",
    "$$\n",
    "to ensure the hash fits in a six-character space."
   ]
  },
  {
   "cell_type": "code",
   "execution_count": null,
   "id": "89eed89d-c097-4c88-ad98-cedb943db792",
   "metadata": {},
   "outputs": [],
   "source": [
    "class URLShortener:\n",
    "    pass\n",
    "\n",
    "# Testing\n",
    "shortener = URLShortener()\n",
    "code = shortener.shorten(\"https://www.google.com\")\n",
    "print(code)  # Output: A short hash like \"5a3d4e\"\n",
    "print(shortener.expand(code))  # Output: \"https://example.com\"\n"
   ]
  },
  {
   "cell_type": "markdown",
   "id": "fd6c41cc-d369-443d-a432-a40e1eb64aeb",
   "metadata": {},
   "source": [
    "---"
   ]
  }
 ],
 "metadata": {
  "kernelspec": {
   "display_name": "Python 3 (ipykernel)",
   "language": "python",
   "name": "python3"
  },
  "language_info": {
   "codemirror_mode": {
    "name": "ipython",
    "version": 3
   },
   "file_extension": ".py",
   "mimetype": "text/x-python",
   "name": "python",
   "nbconvert_exporter": "python",
   "pygments_lexer": "ipython3",
   "version": "3.11.5"
  }
 },
 "nbformat": 4,
 "nbformat_minor": 5
}
